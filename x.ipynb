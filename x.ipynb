{
 "cells": [
  {
   "cell_type": "code",
   "execution_count": null,
   "id": "e20ffd66",
   "metadata": {},
   "outputs": [],
   "source": [
    "import pandas as pd\n",
    "import numpy as np\n",
    "import matplotlib.pyplot as plt\n",
    "import seaborn as sns\n",
    "\n",
    "from sklearn.model_selection import train_test_split\n",
    "from sklearn.preprocessing import MinMaxScaler\n",
    "from sklearn.preprocessing import StandardScaler\n",
    "from sklearn.compose import ColumnTransformer\n",
    "from sklearn.pipeline import Pipeline\n",
    "from sklearn.metrics import mean_squared_error, mean_absolute_error, r2_score\n",
    "\n",
    "from sklearn.linear_model import LinearRegression, Ridge, Lasso\n",
    "from sklearn.ensemble import RandomForestRegressor, GradientBoostingRegressor\n",
    "from sklearn.neighbors import KNeighborsRegressor\n",
    "from sklearn.svm import SVR\n",
    "\n",
    "\n",
    "import warnings\n",
    "warnings.filterwarnings('ignore')"
   ]
  },
  {
   "cell_type": "code",
   "execution_count": null,
   "id": "42b3024e",
   "metadata": {},
   "outputs": [],
   "source": [
    "import pandas as pd\n",
    "import os\n",
    "\n",
    "\n",
    "# 1. Load FAO Food Price Index (FPI)\n",
    "\n",
    "fao_path = \"./Food_price_indices_data_may629 (2).xls\"  # Replace with your path\n",
    "fao_df = pd.read_excel(fao_path, sheet_name=0, skiprows=2)\n",
    "\n",
    "# Keep only columns that are not 'Unnamed'\n",
    "fao_columns = [c for c in fao_df.columns if 'Unnamed' not in c]\n",
    "fao_df = fao_df[fao_columns]\n",
    "\n",
    "# Melt to long format\n",
    "fao_long = fao_df.melt(\n",
    "    id_vars=['Date'],\n",
    "    var_name='Commodity',\n",
    "    value_name='FPI'\n",
    ")\n",
    "\n",
    "# Add Year and Month\n",
    "fao_long['Year'] = fao_long['Date'].dt.year\n",
    "fao_long['Month'] = fao_long['Date'].dt.month\n",
    "\n",
    "print(\"FAO FPI long shape:\", fao_long.shape)\n",
    "fao_long.head()\n",
    "\n",
    "# 2. Load FAO monthly Food CPI (.dta)\n",
    "\n",
    "fcpi_path = \"./Inflation-data/fcpi_m.dta\"  # Replace with your path\n",
    "fcpi_df = pd.read_stata(fcpi_path)\n",
    "\n",
    "# Keep only Country + numeric monthly columns (ignore _Note)\n",
    "fcpi_df = fcpi_df[['Country'] + [c for c in fcpi_df.columns if c.startswith('_') and c[1:].isdigit()]]\n",
    "\n",
    "# Melt wide to long\n",
    "fcpi_long = fcpi_df.melt(\n",
    "    id_vars=['Country'],\n",
    "    var_name='YearMonth',\n",
    "    value_name='Food_CPI'\n",
    ")\n",
    "\n",
    "# Convert YearMonth to datetime\n",
    "fcpi_long['YearMonth'] = fcpi_long['YearMonth'].str.replace('_','')\n",
    "fcpi_long['Date'] = pd.to_datetime(fcpi_long['YearMonth'], format='%Y%m')\n",
    "fcpi_long['Year'] = fcpi_long['Date'].dt.year\n",
    "fcpi_long['Month'] = fcpi_long['Date'].dt.month\n",
    "fcpi_long.drop(columns=['YearMonth'], inplace=True)\n",
    "\n",
    "print(\"FAO Food CPI long shape:\", fcpi_long.shape)\n",
    "fcpi_long.head()\n",
    "\n",
    "\n",
    "# 3. Load World Bank CPI\n",
    "\n",
    "cpi_path = \"./API_FP.CPI.TOTL.ZG_DS2_en_csv_v2_23195 (1)/API_FP.CPI.TOTL.ZG_DS2_en_csv_v2_23195.csv\"\n",
    "cpi_df = pd.read_csv(cpi_path, skiprows=4)\n",
    "\n",
    "# Melt wide to long\n",
    "cpi_long = cpi_df.melt(\n",
    "    id_vars=['Country Name','Country Code','Indicator Name','Indicator Code'],\n",
    "    var_name='Year',\n",
    "    value_name='CPI'\n",
    ")\n",
    "\n",
    "# Keep only numeric years\n",
    "cpi_long = cpi_long[cpi_long['Year'].str.isnumeric()]\n",
    "cpi_long['Year'] = cpi_long['Year'].astype(int)\n",
    "cpi_long.dropna(subset=['CPI'], inplace=True)\n",
    "\n",
    "print(\"World Bank CPI long shape:\", cpi_long.shape)\n",
    "cpi_long.head()\n",
    "\n",
    "\n",
    "# 4. Load World Bank GDP Deflator\n",
    "\n",
    "gdp_path = \"./API_NY.GDP.DEFL.KD.ZG_DS2_en_csv_v2_22672 (1)/API_NY.GDP.DEFL.KD.ZG_DS2_en_csv_v2_22672.csv\"\n",
    "gdp_df = pd.read_csv(gdp_path, skiprows=4)\n",
    "\n",
    "# Melt wide to long\n",
    "gdp_long = gdp_df.melt(\n",
    "    id_vars=['Country Name','Country Code','Indicator Name','Indicator Code'],\n",
    "    var_name='Year',\n",
    "    value_name='GDP_Deflator'\n",
    ")\n",
    "\n",
    "# Keep only numeric years\n",
    "gdp_long = gdp_long[gdp_long['Year'].str.isnumeric()]\n",
    "gdp_long['Year'] = gdp_long['Year'].astype(int)\n",
    "gdp_long.dropna(subset=['GDP_Deflator'], inplace=True)\n",
    "\n",
    "print(\"World Bank GDP Deflator long shape:\", gdp_long.shape)\n",
    "gdp_long.head()\n",
    "\n",
    "\n",
    "# 5. Merge datasets\n",
    "\n",
    "# Merge FAO FPI with FAO CPI on Year and Month\n",
    "merged = pd.merge(\n",
    "    fao_long,\n",
    "    fcpi_long[['Country','Year','Month','Food_CPI']],\n",
    "    on=['Year','Month'],\n",
    "    how='left'\n",
    ")\n",
    "\n",
    "# Merge with World Bank CPI on Year\n",
    "merged = pd.merge(\n",
    "    merged,\n",
    "    cpi_long[['Country Name','Year','CPI']],\n",
    "    left_on=['Country','Year'],\n",
    "    right_on=['Country Name','Year'],\n",
    "    how='left'\n",
    ")\n",
    "\n",
    "# Merge with GDP Deflator on Year\n",
    "merged = pd.merge(\n",
    "    merged,\n",
    "    gdp_long[['Country Name','Year','GDP_Deflator']],\n",
    "    left_on=['Country','Year'],\n",
    "    right_on=['Country Name','Year'],\n",
    "    how='left'\n",
    ")\n",
    "\n",
    "# Drop redundant columns\n",
    "merged.drop(columns=['Country Name_x','Country Name_y'], inplace=True, errors='ignore')\n",
    "\n",
    "print(\"Merged dataset shape:\", merged.shape)\n",
    "merged.head()\n"
   ]
  },
  {
   "cell_type": "code",
   "execution_count": null,
   "id": "44958ae0",
   "metadata": {},
   "outputs": [],
   "source": [
    "merged.info()"
   ]
  },
  {
   "cell_type": "code",
   "execution_count": null,
   "id": "e0bb0f97",
   "metadata": {},
   "outputs": [],
   "source": [
    "merged.isnull().sum()"
   ]
  },
  {
   "cell_type": "code",
   "execution_count": null,
   "id": "1485cdf7",
   "metadata": {},
   "outputs": [],
   "source": [
    "\n",
    "# Count of unique countries\n",
    "num_countries = merged['Country'].nunique()\n",
    "print(\"Number of unique countries:\", num_countries)"
   ]
  },
  {
   "cell_type": "code",
   "execution_count": null,
   "id": "f90fecc2",
   "metadata": {},
   "outputs": [],
   "source": [
    "# List all unique countries\n",
    "unique_countries = merged['Country'].unique()\n",
    "print(\"Countries in dataset:\", unique_countries)\n"
   ]
  },
  {
   "cell_type": "code",
   "execution_count": null,
   "id": "e08be6e9",
   "metadata": {},
   "outputs": [],
   "source": [
    "# Filter dataset for Kenya\n",
    "kenya_data = merged[merged['Country'] == 'Kenya']\n",
    "\n",
    "# Show first few rows\n",
    "display(kenya_data.head())\n",
    "\n",
    "# Number of rows for Kenya\n",
    "print(\"Number of rows for Kenya:\", len(kenya_data))\n"
   ]
  },
  {
   "cell_type": "code",
   "execution_count": null,
   "id": "16bd8051",
   "metadata": {},
   "outputs": [],
   "source": [
    "merged.describe()"
   ]
  },
  {
   "cell_type": "markdown",
   "id": "fac854d4",
   "metadata": {},
   "source": [
    "# EDA"
   ]
  },
  {
   "cell_type": "code",
   "execution_count": null,
   "id": "663008dd",
   "metadata": {},
   "outputs": [],
   "source": [
    "# 1. Numerical features\n",
    "\n",
    "numerical_cols = ['FPI', 'Food_CPI', 'CPI', 'GDP_Deflator']\n",
    "eda_df = merged[numerical_cols].copy()"
   ]
  },
  {
   "cell_type": "code",
   "execution_count": null,
   "id": "5ee9cec7",
   "metadata": {},
   "outputs": [],
   "source": [
    "# Set plot style\n",
    "sns.set(style=\"whitegrid\", palette=\"muted\", font_scale=1.1)\n",
    "plt.rcParams['figure.figsize'] = (12,6)"
   ]
  },
  {
   "cell_type": "code",
   "execution_count": null,
   "id": "ea059795",
   "metadata": {},
   "outputs": [],
   "source": [
    "# 2. Heatmap of correlations\n",
    "\n",
    "plt.figure(figsize=(8,6))\n",
    "corr = eda_df.corr()\n",
    "sns.heatmap(corr, annot=True, cmap='coolwarm', fmt=\".2f\")\n",
    "plt.title(\"Correlation Heatmap\")\n",
    "plt.show()"
   ]
  },
  {
   "cell_type": "code",
   "execution_count": null,
   "id": "c7400e92",
   "metadata": {},
   "outputs": [],
   "source": [
    "# 3. Histograms \n",
    "\n",
    "eda_df.hist(bins=30, figsize=(12,8), color='skyblue', edgecolor='black')\n",
    "plt.suptitle(\"Distribution of Numerical Features\")\n",
    "plt.show()"
   ]
  },
  {
   "cell_type": "code",
   "execution_count": null,
   "id": "67884282",
   "metadata": {},
   "outputs": [],
   "source": [
    "# 4. Boxplots for outliers\n",
    "\n",
    "plt.figure(figsize=(12,6))\n",
    "eda_df_melt = eda_df.melt(var_name='Feature', value_name='Value')\n",
    "sns.boxplot(x='Feature', y='Value', data=eda_df_melt)\n",
    "plt.title(\"Boxplots of Numerical Features (Outlier Detection)\")\n",
    "plt.show()"
   ]
  },
  {
   "cell_type": "code",
   "execution_count": null,
   "id": "8a38736d",
   "metadata": {},
   "outputs": [],
   "source": [
    "# 5. Pairplot (sample for performance)\n",
    "\n",
    "sample_df = eda_df.sample(n=5000, random_state=42)  # sample to speed up plotting\n",
    "sns.pairplot(sample_df)\n",
    "plt.suptitle(\"Pairplot of Numerical Features (Sample)\", y=1.02)\n",
    "plt.show()"
   ]
  },
  {
   "cell_type": "code",
   "execution_count": null,
   "id": "03d7db87",
   "metadata": {},
   "outputs": [],
   "source": [
    "import matplotlib.pyplot as plt\n",
    "import seaborn as sns\n",
    "\n",
    "# Aggregate per year & commodity\n",
    "agg = merged.groupby(['Year','Commodity']).agg({\n",
    "    'FPI':'mean',\n",
    "    'Food_CPI':'mean',\n",
    "    'CPI':'mean'\n",
    "}).reset_index()\n"
   ]
  },
  {
   "cell_type": "code",
   "execution_count": null,
   "id": "93e7dcf7",
   "metadata": {},
   "outputs": [],
   "source": [
    "# Plot FPI trends per commodity\n",
    "plt.figure(figsize=(16,8))\n",
    "sns.lineplot(data=agg, x='Year', y='FPI', hue='Commodity', marker='o')\n",
    "plt.title('Global Food Price Index (FPI) Trends per Commodity')\n",
    "plt.ylabel('FPI')\n",
    "plt.xlabel('Year')\n",
    "plt.legend(title='Commodity', bbox_to_anchor=(1.05, 1), loc='upper left')\n",
    "plt.tight_layout()\n",
    "plt.show()"
   ]
  },
  {
   "cell_type": "code",
   "execution_count": null,
   "id": "fdcce190",
   "metadata": {},
   "outputs": [],
   "source": [
    "#  plot Food_CPI and CPI per commodity (only for countries with Food_CPI)\n",
    "plt.figure(figsize=(16,8))\n",
    "sns.lineplot(data=agg, x='Year', y='Food_CPI', hue='Commodity', marker='o')\n",
    "plt.title('Average Food_CPI per Commodity Across Countries')\n",
    "plt.ylabel('Food_CPI')\n",
    "plt.xlabel('Year')\n",
    "plt.legend(title='Commodity', bbox_to_anchor=(1.05, 1), loc='upper left')\n",
    "plt.tight_layout()\n",
    "plt.show()\n"
   ]
  },
  {
   "cell_type": "code",
   "execution_count": null,
   "id": "cfe0bcd0",
   "metadata": {},
   "outputs": [],
   "source": []
  }
 ],
 "metadata": {
  "kernelspec": {
   "display_name": "env (3.13.4)",
   "language": "python",
   "name": "python3"
  },
  "language_info": {
   "name": "python",
   "version": "3.13.4"
  }
 },
 "nbformat": 4,
 "nbformat_minor": 5
}
